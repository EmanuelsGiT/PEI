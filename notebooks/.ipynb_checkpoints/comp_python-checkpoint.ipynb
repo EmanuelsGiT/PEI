{
 "cells": [
  {
   "cell_type": "code",
   "execution_count": 287,
   "metadata": {},
   "outputs": [],
   "source": [
    "import pandas as pd\n",
    "import matplotlib.pyplot as plt\n",
    "from tabulate import tabulate\n",
    "import pandas as pd\n",
    "import seaborn as sns\n",
    "import numpy as np\n",
    "\n",
    "\n"
   ]
  },
  {
   "cell_type": "code",
   "execution_count": 288,
   "metadata": {},
   "outputs": [
    {
     "name": "stdout",
     "output_type": "stream",
     "text": [
      "  Language     Program  PowerLimit     Package        Core GPU DRAM   Time  \\\n",
      "0   Python   chameleon          -1  416.231750  369.447876           17751   \n",
      "1   Python   chameleon          -1  406.150635  362.666504           17516   \n",
      "2   Python   chameleon          -1  403.458496  360.269714           17474   \n",
      "3   Python   chameleon          -1  406.172363  362.136658           17466   \n",
      "4   Python   chameleon          -1  404.590515  363.036011           17408   \n",
      "\n",
      "   Temperature  Memory  \n",
      "0         53.6   43820  \n",
      "1         54.0   43780  \n",
      "2         53.6   43796  \n",
      "3         52.4   43532  \n",
      "4         53.3   43700  \n"
     ]
    }
   ],
   "source": [
    "\n",
    "# Replace 'file_path.csv' with the path to your CSV file\n",
    "file_path = './measurements_python.csv' #'measurementshaskell.csv'\n",
    "\n",
    "# Read the CSV file into a pandas DataFrame\n",
    "df310 = pd.read_csv(file_path)\n",
    "\n",
    "# Display the first few rows of the DataFrame\n",
    "print(df310.head())\n"
   ]
  },
  {
   "cell_type": "code",
   "execution_count": 289,
   "metadata": {},
   "outputs": [
    {
     "name": "stdout",
     "output_type": "stream",
     "text": [
      "   Language     Program  PowerLimit     Package        Core GPU DRAM   Time  \\\n",
      "0  Python36   chameleon          -1  152.581360  103.898071           21116   \n",
      "1  Python36   chameleon          -1  153.161560  103.377258           21169   \n",
      "2  Python36   chameleon          -1  154.081665  103.039307           21272   \n",
      "3  Python36   chameleon          -1  150.564575  102.911194           21054   \n",
      "4  Python36   chameleon          -1  153.234558  102.084778           21405   \n",
      "\n",
      "   Temperature  Memory  \n",
      "0         34.7   45664  \n",
      "1         35.8   45416  \n",
      "2         36.9   45664  \n",
      "3         37.5   45412  \n",
      "4         37.6   45232  \n"
     ]
    }
   ],
   "source": [
    "\n",
    "# Replace 'file_path.csv' with the path to your CSV file\n",
    "file_path = './measurements_python36.csv' #'measurementshaskell.csv'\n",
    "\n",
    "# Read the CSV file into a pandas DataFrame\n",
    "df36 = pd.read_csv(file_path)\n",
    "\n",
    "# Display the first few rows of the DataFrame\n",
    "print(df36.head())\n"
   ]
  },
  {
   "cell_type": "code",
   "execution_count": 290,
   "metadata": {},
   "outputs": [
    {
     "name": "stdout",
     "output_type": "stream",
     "text": [
      "     Language        Program  PowerLimit     Package        Core GPU DRAM  \\\n",
      "0    Python36           2to3          -1  294.061768  194.643860            \n",
      "1    Python36           2to3          -1  294.857422  195.480835            \n",
      "2    Python36           2to3          -1  294.887878  195.103821            \n",
      "3    Python36           2to3          -1  297.669617  195.020325            \n",
      "4    Python36           2to3          -1  298.853455  194.375549            \n",
      "..        ...            ...         ...         ...         ...  ..  ...   \n",
      "125  Python36   tornado_http           5  161.519836   84.235474            \n",
      "126  Python36   tornado_http           5  161.894104   83.250305            \n",
      "127  Python36   tornado_http           5  162.771545   84.002808            \n",
      "128  Python36   tornado_http           5  162.971680   83.115906            \n",
      "129  Python36   tornado_http           5  163.166565   83.380798            \n",
      "\n",
      "      Time  Temperature  Memory  \n",
      "0    41729         43.1   45592  \n",
      "1    41674         42.3   45532  \n",
      "2    41768         42.9   45372  \n",
      "3    41899         41.6   45824  \n",
      "4    41975         41.6   45656  \n",
      "..     ...          ...     ...  \n",
      "125  32076         42.3   45964  \n",
      "126  32173         43.0   45852  \n",
      "127  32330         41.6   45928  \n",
      "128  32342         42.6   45900  \n",
      "129  32402         40.9   45656  \n",
      "\n",
      "[130 rows x 10 columns]\n",
      "    Language        Program  PowerLimit     Package        Core GPU DRAM  \\\n",
      "0     Python           2to3          -1  481.337036  421.676331            \n",
      "1     Python           2to3          -1  481.888367  425.087646            \n",
      "2     Python           2to3          -1  482.714722  424.232300            \n",
      "3     Python           2to3          -1  482.992981  426.720154            \n",
      "4     Python           2to3          -1  483.093079  425.227051            \n",
      "..       ...            ...         ...         ...         ...  ..  ...   \n",
      "355   Python   tornado_http         115  462.281921  415.280396            \n",
      "356   Python   tornado_http         115  462.540405  416.843689            \n",
      "357   Python   tornado_http         115  463.228455  415.941772            \n",
      "358   Python   tornado_http         115  463.823303  415.765076            \n",
      "359   Python   tornado_http         115  464.658875  416.303345            \n",
      "\n",
      "      Time  Temperature  Memory  \n",
      "0    20597         53.3   43600  \n",
      "1    20405         54.1   43932  \n",
      "2    20369         53.9   43764  \n",
      "3    20329         54.2   43584  \n",
      "4    20473         52.6   43612  \n",
      "..     ...          ...     ...  \n",
      "355  18008         55.0   43632  \n",
      "356  17942         57.8   43656  \n",
      "357  17934         54.1   43600  \n",
      "358  17836         58.6   43676  \n",
      "359  17766         56.6   43672  \n",
      "\n",
      "[360 rows x 10 columns]\n"
     ]
    }
   ],
   "source": [
    "def remove_outliers(group):\n",
    "    sorted_group = group.sort_values(by='Package')\n",
    "    return sorted_group.iloc[2:-2]\n",
    "\n",
    "# Group by 'Program' and 'PowerLimit' and apply the function to remove outliers\n",
    "df36 = df36.groupby(['Program', 'PowerLimit']).apply(remove_outliers).reset_index(drop=True)\n",
    "\n",
    "# Display the cleaned DataFrame\n",
    "print(df36)\n",
    "\n",
    "# Group by 'Program' and 'PowerLimit' and apply the function to remove outliers\n",
    "df310 = df310.groupby(['Program', 'PowerLimit']).apply(remove_outliers).reset_index(drop=True)\n",
    "\n",
    "# Display the cleaned DataFrame\n",
    "print(df310)\n"
   ]
  },
  {
   "cell_type": "code",
   "execution_count": 291,
   "metadata": {},
   "outputs": [
    {
     "data": {
      "text/plain": [
       "(130, 10)"
      ]
     },
     "execution_count": 291,
     "metadata": {},
     "output_type": "execute_result"
    }
   ],
   "source": [
    "df36.shape"
   ]
  },
  {
   "cell_type": "code",
   "execution_count": 292,
   "metadata": {},
   "outputs": [
    {
     "data": {
      "text/plain": [
       "(120, 10)"
      ]
     },
     "execution_count": 292,
     "metadata": {},
     "output_type": "execute_result"
    }
   ],
   "source": [
    "df310 = df310[df310['PowerLimit'].isin([-1, 5])]\n",
    "\n",
    "df310.shape"
   ]
  },
  {
   "cell_type": "code",
   "execution_count": 293,
   "metadata": {},
   "outputs": [
    {
     "name": "stdout",
     "output_type": "stream",
     "text": [
      "df310 types:\n",
      "Program         object\n",
      "PowerLimit       int64\n",
      "Package        float64\n",
      "Core           float64\n",
      "Time             int64\n",
      "Temperature    float64\n",
      "Memory           int64\n",
      "dtype: object\n",
      "\n",
      "df36 types:\n",
      "Program         object\n",
      "PowerLimit       int64\n",
      "Package        float64\n",
      "Core           float64\n",
      "Time             int64\n",
      "Temperature    float64\n",
      "Memory           int64\n",
      "dtype: object\n"
     ]
    }
   ],
   "source": [
    "df310 = df310.drop(['GPU', 'DRAM', 'Language'], axis=1)\n",
    "df36 = df36.drop(['GPU', 'DRAM', 'Language'], axis=1)\n",
    "\n",
    "print(\"df310 types:\")\n",
    "print(df310.dtypes)\n",
    "\n",
    "print(\"\\ndf36 types:\")\n",
    "print(df36.dtypes)"
   ]
  },
  {
   "cell_type": "code",
   "execution_count": 294,
   "metadata": {},
   "outputs": [
    {
     "data": {
      "text/plain": [
       "(20, 7)"
      ]
     },
     "execution_count": 294,
     "metadata": {},
     "output_type": "execute_result"
    }
   ],
   "source": [
    "df310_mean = df310.groupby(['Program', 'PowerLimit']).mean().reset_index()\n",
    "\n",
    "df310_mean.shape"
   ]
  },
  {
   "cell_type": "code",
   "execution_count": 295,
   "metadata": {},
   "outputs": [
    {
     "data": {
      "text/plain": [
       "(20, 7)"
      ]
     },
     "execution_count": 295,
     "metadata": {},
     "output_type": "execute_result"
    }
   ],
   "source": [
    "df36_mean = df36.groupby(['Program', 'PowerLimit']).mean().reset_index()\n",
    "\n",
    "df36_mean.shape"
   ]
  },
  {
   "cell_type": "code",
   "execution_count": 296,
   "metadata": {},
   "outputs": [],
   "source": [
    "df36_mean['Time'] = df36_mean['Time'] / 1000 \n",
    "df310_mean['Time'] = df310_mean['Time'] / 1000 \n",
    "\n",
    "df36_mean['Memory'] = df36_mean['Memory'] / 1000 \n",
    "df310_mean['Memory'] = df310_mean['Memory'] / 1000 \n"
   ]
  },
  {
   "cell_type": "code",
   "execution_count": 297,
   "metadata": {},
   "outputs": [
    {
     "data": {
      "text/plain": [
       "(20, 7)"
      ]
     },
     "execution_count": 297,
     "metadata": {},
     "output_type": "execute_result"
    }
   ],
   "source": [
    "df310_mean.shape\n"
   ]
  },
  {
   "cell_type": "code",
   "execution_count": 298,
   "metadata": {},
   "outputs": [
    {
     "data": {
      "text/html": [
       "<div>\n",
       "<style scoped>\n",
       "    .dataframe tbody tr th:only-of-type {\n",
       "        vertical-align: middle;\n",
       "    }\n",
       "\n",
       "    .dataframe tbody tr th {\n",
       "        vertical-align: top;\n",
       "    }\n",
       "\n",
       "    .dataframe thead th {\n",
       "        text-align: right;\n",
       "    }\n",
       "</style>\n",
       "<table border=\"1\" class=\"dataframe\">\n",
       "  <thead>\n",
       "    <tr style=\"text-align: right;\">\n",
       "      <th></th>\n",
       "      <th>PowerLimit</th>\n",
       "      <th>Package</th>\n",
       "      <th>Core</th>\n",
       "      <th>Time</th>\n",
       "      <th>Temperature</th>\n",
       "      <th>Memory</th>\n",
       "    </tr>\n",
       "  </thead>\n",
       "  <tbody>\n",
       "    <tr>\n",
       "      <th>0</th>\n",
       "      <td>-1</td>\n",
       "      <td>751.311451</td>\n",
       "      <td>657.299815</td>\n",
       "      <td>33.448583</td>\n",
       "      <td>53.856667</td>\n",
       "      <td>52.329133</td>\n",
       "    </tr>\n",
       "    <tr>\n",
       "      <th>1</th>\n",
       "      <td>5</td>\n",
       "      <td>378.331167</td>\n",
       "      <td>193.891218</td>\n",
       "      <td>75.643617</td>\n",
       "      <td>38.390000</td>\n",
       "      <td>52.337533</td>\n",
       "    </tr>\n",
       "  </tbody>\n",
       "</table>\n",
       "</div>"
      ],
      "text/plain": [
       "   PowerLimit     Package        Core       Time  Temperature     Memory\n",
       "0          -1  751.311451  657.299815  33.448583    53.856667  52.329133\n",
       "1           5  378.331167  193.891218  75.643617    38.390000  52.337533"
      ]
     },
     "execution_count": 298,
     "metadata": {},
     "output_type": "execute_result"
    }
   ],
   "source": [
    "df310_mean = df310_mean.drop(columns = ['Program']).groupby(['PowerLimit']).mean().reset_index()\n",
    "\n",
    "df310_mean"
   ]
  },
  {
   "cell_type": "code",
   "execution_count": 299,
   "metadata": {},
   "outputs": [
    {
     "data": {
      "text/html": [
       "<div>\n",
       "<style scoped>\n",
       "    .dataframe tbody tr th:only-of-type {\n",
       "        vertical-align: middle;\n",
       "    }\n",
       "\n",
       "    .dataframe tbody tr th {\n",
       "        vertical-align: top;\n",
       "    }\n",
       "\n",
       "    .dataframe thead th {\n",
       "        text-align: right;\n",
       "    }\n",
       "</style>\n",
       "<table border=\"1\" class=\"dataframe\">\n",
       "  <thead>\n",
       "    <tr style=\"text-align: right;\">\n",
       "      <th></th>\n",
       "      <th>PowerLimit</th>\n",
       "      <th>Package</th>\n",
       "      <th>Core</th>\n",
       "      <th>Time</th>\n",
       "      <th>Temperature</th>\n",
       "      <th>Memory</th>\n",
       "    </tr>\n",
       "  </thead>\n",
       "  <tbody>\n",
       "    <tr>\n",
       "      <th>0</th>\n",
       "      <td>-1</td>\n",
       "      <td>418.318221</td>\n",
       "      <td>266.445597</td>\n",
       "      <td>59.878356</td>\n",
       "      <td>42.014375</td>\n",
       "      <td>53.838042</td>\n",
       "    </tr>\n",
       "    <tr>\n",
       "      <th>1</th>\n",
       "      <td>5</td>\n",
       "      <td>402.315726</td>\n",
       "      <td>206.265395</td>\n",
       "      <td>79.895583</td>\n",
       "      <td>42.401667</td>\n",
       "      <td>54.040200</td>\n",
       "    </tr>\n",
       "  </tbody>\n",
       "</table>\n",
       "</div>"
      ],
      "text/plain": [
       "   PowerLimit     Package        Core       Time  Temperature     Memory\n",
       "0          -1  418.318221  266.445597  59.878356    42.014375  53.838042\n",
       "1           5  402.315726  206.265395  79.895583    42.401667  54.040200"
      ]
     },
     "execution_count": 299,
     "metadata": {},
     "output_type": "execute_result"
    }
   ],
   "source": [
    "df36_mean = df36_mean.drop(columns = ['Program']).groupby(['PowerLimit']).mean().reset_index()\n",
    "\n",
    "df36_mean"
   ]
  },
  {
   "cell_type": "code",
   "execution_count": 300,
   "metadata": {},
   "outputs": [
    {
     "data": {
      "text/plain": [
       "(4, 7)"
      ]
     },
     "execution_count": 300,
     "metadata": {},
     "output_type": "execute_result"
    }
   ],
   "source": [
    "# Add an identifier column to each DataFrame\n",
    "df36_mean['Versão Python'] = 'Python 3.6'\n",
    "df310_mean['Versão Python'] = 'Python 3.10'\n",
    "\n",
    "# Combine the DataFrames\n",
    "combined_df = pd.concat([df36_mean, df310_mean])\n",
    "\n",
    "combined_df.shape\n",
    "\n"
   ]
  },
  {
   "cell_type": "code",
   "execution_count": 301,
   "metadata": {},
   "outputs": [
    {
     "data": {
      "text/html": [
       "<div>\n",
       "<style scoped>\n",
       "    .dataframe tbody tr th:only-of-type {\n",
       "        vertical-align: middle;\n",
       "    }\n",
       "\n",
       "    .dataframe tbody tr th {\n",
       "        vertical-align: top;\n",
       "    }\n",
       "\n",
       "    .dataframe thead th {\n",
       "        text-align: right;\n",
       "    }\n",
       "</style>\n",
       "<table border=\"1\" class=\"dataframe\">\n",
       "  <thead>\n",
       "    <tr style=\"text-align: right;\">\n",
       "      <th></th>\n",
       "      <th>PowerLimit</th>\n",
       "      <th>Package</th>\n",
       "      <th>Core</th>\n",
       "      <th>Time</th>\n",
       "      <th>Temperature</th>\n",
       "      <th>Memory</th>\n",
       "      <th>Versão Python</th>\n",
       "    </tr>\n",
       "  </thead>\n",
       "  <tbody>\n",
       "    <tr>\n",
       "      <th>0</th>\n",
       "      <td>-1</td>\n",
       "      <td>418.318221</td>\n",
       "      <td>266.445597</td>\n",
       "      <td>59.878356</td>\n",
       "      <td>42.014375</td>\n",
       "      <td>53.838042</td>\n",
       "      <td>Python 3.6</td>\n",
       "    </tr>\n",
       "    <tr>\n",
       "      <th>1</th>\n",
       "      <td>5</td>\n",
       "      <td>402.315726</td>\n",
       "      <td>206.265395</td>\n",
       "      <td>79.895583</td>\n",
       "      <td>42.401667</td>\n",
       "      <td>54.040200</td>\n",
       "      <td>Python 3.6</td>\n",
       "    </tr>\n",
       "    <tr>\n",
       "      <th>0</th>\n",
       "      <td>-1</td>\n",
       "      <td>751.311451</td>\n",
       "      <td>657.299815</td>\n",
       "      <td>33.448583</td>\n",
       "      <td>53.856667</td>\n",
       "      <td>52.329133</td>\n",
       "      <td>Python 3.10</td>\n",
       "    </tr>\n",
       "    <tr>\n",
       "      <th>1</th>\n",
       "      <td>5</td>\n",
       "      <td>378.331167</td>\n",
       "      <td>193.891218</td>\n",
       "      <td>75.643617</td>\n",
       "      <td>38.390000</td>\n",
       "      <td>52.337533</td>\n",
       "      <td>Python 3.10</td>\n",
       "    </tr>\n",
       "  </tbody>\n",
       "</table>\n",
       "</div>"
      ],
      "text/plain": [
       "   PowerLimit     Package        Core       Time  Temperature     Memory  \\\n",
       "0          -1  418.318221  266.445597  59.878356    42.014375  53.838042   \n",
       "1           5  402.315726  206.265395  79.895583    42.401667  54.040200   \n",
       "0          -1  751.311451  657.299815  33.448583    53.856667  52.329133   \n",
       "1           5  378.331167  193.891218  75.643617    38.390000  52.337533   \n",
       "\n",
       "  Versão Python  \n",
       "0    Python 3.6  \n",
       "1    Python 3.6  \n",
       "0   Python 3.10  \n",
       "1   Python 3.10  "
      ]
     },
     "execution_count": 301,
     "metadata": {},
     "output_type": "execute_result"
    }
   ],
   "source": [
    "combined_df.head()"
   ]
  },
  {
   "cell_type": "code",
   "execution_count": 302,
   "metadata": {},
   "outputs": [
    {
     "data": {
      "text/html": [
       "<div>\n",
       "<style scoped>\n",
       "    .dataframe tbody tr th:only-of-type {\n",
       "        vertical-align: middle;\n",
       "    }\n",
       "\n",
       "    .dataframe tbody tr th {\n",
       "        vertical-align: top;\n",
       "    }\n",
       "\n",
       "    .dataframe thead th {\n",
       "        text-align: right;\n",
       "    }\n",
       "</style>\n",
       "<table border=\"1\" class=\"dataframe\">\n",
       "  <thead>\n",
       "    <tr style=\"text-align: right;\">\n",
       "      <th></th>\n",
       "      <th>PowerLimit</th>\n",
       "      <th>Versão Python</th>\n",
       "      <th>Package</th>\n",
       "      <th>Core</th>\n",
       "      <th>Time</th>\n",
       "      <th>Temperature</th>\n",
       "      <th>Memory</th>\n",
       "    </tr>\n",
       "  </thead>\n",
       "  <tbody>\n",
       "    <tr>\n",
       "      <th>0</th>\n",
       "      <td>-1</td>\n",
       "      <td>Python 3.10</td>\n",
       "      <td>751.311451</td>\n",
       "      <td>657.299815</td>\n",
       "      <td>33.448583</td>\n",
       "      <td>53.856667</td>\n",
       "      <td>52.329133</td>\n",
       "    </tr>\n",
       "    <tr>\n",
       "      <th>1</th>\n",
       "      <td>-1</td>\n",
       "      <td>Python 3.6</td>\n",
       "      <td>418.318221</td>\n",
       "      <td>266.445597</td>\n",
       "      <td>59.878356</td>\n",
       "      <td>42.014375</td>\n",
       "      <td>53.838042</td>\n",
       "    </tr>\n",
       "    <tr>\n",
       "      <th>2</th>\n",
       "      <td>5</td>\n",
       "      <td>Python 3.10</td>\n",
       "      <td>378.331167</td>\n",
       "      <td>193.891218</td>\n",
       "      <td>75.643617</td>\n",
       "      <td>38.390000</td>\n",
       "      <td>52.337533</td>\n",
       "    </tr>\n",
       "    <tr>\n",
       "      <th>3</th>\n",
       "      <td>5</td>\n",
       "      <td>Python 3.6</td>\n",
       "      <td>402.315726</td>\n",
       "      <td>206.265395</td>\n",
       "      <td>79.895583</td>\n",
       "      <td>42.401667</td>\n",
       "      <td>54.040200</td>\n",
       "    </tr>\n",
       "  </tbody>\n",
       "</table>\n",
       "</div>"
      ],
      "text/plain": [
       "   PowerLimit Versão Python     Package        Core       Time  Temperature  \\\n",
       "0          -1   Python 3.10  751.311451  657.299815  33.448583    53.856667   \n",
       "1          -1    Python 3.6  418.318221  266.445597  59.878356    42.014375   \n",
       "2           5   Python 3.10  378.331167  193.891218  75.643617    38.390000   \n",
       "3           5    Python 3.6  402.315726  206.265395  79.895583    42.401667   \n",
       "\n",
       "      Memory  \n",
       "0  52.329133  \n",
       "1  53.838042  \n",
       "2  52.337533  \n",
       "3  54.040200  "
      ]
     },
     "execution_count": 302,
     "metadata": {},
     "output_type": "execute_result"
    }
   ],
   "source": [
    "grouped_df = combined_df.groupby(['PowerLimit', 'Versão Python']).sum().reset_index()\n",
    "\n",
    "grouped_df"
   ]
  },
  {
   "cell_type": "code",
   "execution_count": 303,
   "metadata": {},
   "outputs": [
    {
     "data": {
      "image/png": "[encoded data removed]",
      "text/plain": [
       "<Figure size 1000x600 with 1 Axes>"
      ]
     },
     "metadata": {},
     "output_type": "display_data"
    }
   ],
   "source": [
    "\n",
    "\n",
    "# Grouped DataFrame\n",
    "#grouped_df = grouped_df.groupby(['PowerLimit', 'DataFrame']).mean()\n",
    "\n",
    "# Extracting required columns\n",
    "columns = ['Package', 'Core', 'Time', 'Temperature']\n",
    "data = grouped_df[columns]\n",
    "\n",
    "# Plotting the bar graph\n",
    "data.plot(kind='bar', figsize=(10, 6))\n",
    "plt.xlabel('PowerLimit, Versão Python')\n",
    "plt.ylabel('Values')\n",
    "plt.title('Values by Power Limit and Versão Python')\n",
    "plt.legend(loc='upper right')\n",
    "plt.show()"
   ]
  },
  {
   "cell_type": "code",
   "execution_count": null,
   "metadata": {},
   "outputs": [],
   "source": []
  },
  {
   "cell_type": "code",
   "execution_count": 304,
   "metadata": {},
   "outputs": [
    {
     "data": {
      "image/png": "[encoded data removed]",
      "text/plain": [
       "<Figure size 1000x600 with 1 Axes>"
      ]
     },
     "metadata": {},
     "output_type": "display_data"
    }
   ],
   "source": [
    "# Reshape the DataFrame to a long format\n",
    "melted_df = combined_df.melt(id_vars=['PowerLimit', 'Versão Python'], var_name='Column', value_name='Value')\n",
    "\n",
    "melted_df.head()\n",
    "\n",
    "# Create the grouped bar plot\n",
    "fig, ax = plt.subplots(figsize=(10, 6))\n",
    "for key, grp in melted_df.groupby(['Versão Python', 'PowerLimit']):\n",
    "    ax.bar(grp['Column'], grp['Value'], label=f\"{key}\", bottom=grp['Value'])\n",
    "\n",
    "ax.set_xlabel('Columns')\n",
    "ax.set_ylabel('Values')\n",
    "ax.set_title('Grouped Bar Graph by Versão Python and Power Limit')\n",
    "ax.legend(title=('Versão Python, PowerLimit'), loc='upper right')\n",
    "\n",
    "plt.show()"
   ]
  },
  {
   "cell_type": "code",
   "execution_count": null,
   "metadata": {},
   "outputs": [],
   "source": [
    "\n"
   ]
  },
  {
   "cell_type": "code",
   "execution_count": null,
   "metadata": {},
   "outputs": [],
   "source": []
  },
  {
   "cell_type": "code",
   "execution_count": null,
   "metadata": {
    "vscode": {
     "languageId": "r"
    }
   },
   "outputs": [],
   "source": []
  },
  {
   "cell_type": "code",
   "execution_count": 305,
   "metadata": {},
   "outputs": [
    {
     "data": {
      "image/png": "[encoded data removed]",
      "text/plain": [
       "<Figure size 1000x600 with 1 Axes>"
      ]
     },
     "metadata": {},
     "output_type": "display_data"
    }
   ],
   "source": [
    "# Melt the combined DataFrame\n",
    "melted_df = pd.melt(combined_df, id_vars='Versão Python', var_name='Columns', value_name='Values')\n",
    "\n",
    "\n",
    "# Set the aesthetics for the plot\n",
    "sns.set(style=\"whitegrid\")\n",
    "\n",
    "# Create the bar plot\n",
    "plt.figure(figsize=(10, 6))\n",
    "sns.barplot(x='Columns', y='Values', hue='Versão Python', data=melted_df)\n",
    "\n",
    "# Add title and labels\n",
    "plt.title('Comparison of Values Across Versão Python')\n",
    "plt.xlabel('Columns')\n",
    "plt.ylabel('Values')\n",
    "\n",
    "# Show the plot\n",
    "plt.show()"
   ]
  },
  {
   "cell_type": "code",
   "execution_count": null,
   "metadata": {},
   "outputs": [],
   "source": []
  },
  {
   "cell_type": "code",
   "execution_count": null,
   "metadata": {},
   "outputs": [],
   "source": []
  }
 ],
 "metadata": {
  "kernelspec": {
   "display_name": "envNAME",
   "language": "python",
   "name": "python3"
  },
  "language_info": {
   "codemirror_mode": {
    "name": "ipython",
    "version": 3
   },
   "file_extension": ".py",
   "mimetype": "text/x-python",
   "name": "python",
   "nbconvert_exporter": "python",
   "pygments_lexer": "ipython3",
   "version": "3.10.13"
  }
 },
 "nbformat": 4,
 "nbformat_minor": 2
}
